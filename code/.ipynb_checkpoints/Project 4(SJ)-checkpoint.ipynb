{
 "cells": [
  {
   "cell_type": "markdown",
   "id": "b61dff52-6230-49de-a023-38614e22a9db",
   "metadata": {},
   "source": [
    "# Project 4: Dengue Prediction"
   ]
  },
  {
   "cell_type": "markdown",
   "id": "975256ed-db89-4f59-aa84-e008495a8fdd",
   "metadata": {},
   "source": [
    "## Background\n",
    "\n",
    "Dengue fever is a disease caused by the dengue virus and is a vector-borne disease whereby the virus is transmitted to human via the bite of an infected female _Aedes aegypti_ mosquito. The Aedes mosquito prefers to breed after rainy days where there are many pools of stagnant water. They also prefer the warm climate such as Singapore where it facilitates faster multiplication of the mosquito [(Reference)](https://www.nea.gov.sg/media/news/news/index/nea-urges-continued-vigilance-as-aedes-aegypti-mosquito-population-and-number-of-dengue-cases-remain-high-at-the-start-of-2020#:~:text=Climate%20change%20is%20anticipated%20to,the%20chances%20of%20dengue%20transmission.)\n",
    "\n",
    "Once a person is bitten by an infected Aedes mosquito, there is an incubation period of between 4 to 7 days (ranges from 3 to 14 days)before a person displays symptoms of dengue fever which are sudden onset of fever, joint and muscle pain and skin rashes.  [(Reference)](https://www.moh.gov.sg/diseases-updates/dengue). \n",
    "\n",
    "Although dengue does not spread from person to person, the implications of dengue fever to the individual in terms of time off work and lost of productivity have an impact on healthcare burden and economic consequences. Time off work is also applicable to caregiver who may have to take time off to look after the infected individual. According to paper published in 2021 by Soh et. al, the average estimated economic impact of dengue in Singapore from 2010 to 2020 is approximately \\\\$1.014 to $2.265billion [(Reference)](https://www.ncbi.nlm.nih.gov/pmc/articles/PMC10021432/#:~:text=We%20estimated%20that%20the%20average,21%2C262%20DALYs%20from%202010%E2%80%932020). \n",
    "\n",
    "In order to mitigate the economic cost of dengue fever, the National Environment Agency (NEA) has initiated several campaigns for dengue prevention programs. These initiatives include public awareness campaigns, community engagement efforts, and mosquito control measures. Despite these efforts, dengue outbreaks continue to pose a significant challenge to public health, burdening the healthcare system and affecting the quality of life for residents."
   ]
  },
  {
   "cell_type": "markdown",
   "id": "d82323a7-c46b-4b1d-9036-a198f1356681",
   "metadata": {},
   "source": [
    "## Problem Statement \n",
    "\n",
    "The effectiveness of dengue prevention programs in Singapore is a critical concern for the National Environmental Agency. However, there are also costs involved in dengue prevention programmes which places another form of economic burden on Singapore's budget. Therefore, finding the optimal timing for deployment of the prevention programmes in order to maximize the effect whist minimizing costs \n",
    "\n",
    "To this end, we will using machine learning models to predict the cases of dengue fever in Singapore using historical climate and google search trends. Using metrics from the optimal modeling process, we will perform cost benefit analysis of dengue prevention program. This approach allows for evidence-based decision-making and optimization of resource allocation for public health initiatives.\n",
    "\n",
    "### Approach\n",
    "\n",
    "Modeling - ARIMA, SARIMAX \n",
    "Why \n",
    "Metrics "
   ]
  },
  {
   "cell_type": "markdown",
   "id": "b204514e-530d-4ae6-b9ff-b76760dae38a",
   "metadata": {},
   "source": [
    "## Data collection"
   ]
  },
  {
   "cell_type": "markdown",
   "id": "b6287aac-2400-45ef-a30f-4eb5074aadeb",
   "metadata": {},
   "source": [
    "Weather data \n",
    "Dengue data and clusters \n",
    "Google trending with \"dengue\" as keyword, used to see when people search for the word dengue as proxy for early signs of dengue fever. "
   ]
  },
  {
   "cell_type": "code",
   "execution_count": 1,
   "id": "4a169cf4-d755-4eca-a04e-7a0bf452be40",
   "metadata": {},
   "outputs": [],
   "source": [
    "#import libraries \n",
    "\n",
    "import numpy as np\n",
    "import pandas as pd \n",
    "import matplotlib.pyplot as plt\n",
    "import seaborn as sns\n",
    "\n",
    "from sklearn.model_selection import train_test_split\n",
    "from sklearn.preprocessing import StandardScaler"
   ]
  },
  {
   "cell_type": "markdown",
   "id": "d7543481-2944-43f7-8a7a-7d6fabdbffa0",
   "metadata": {},
   "source": [
    "## Data cleaning\n",
    "\n",
    "-Missing data \n",
    "-duplicated data \n",
    "-Outliers (how to handle)"
   ]
  },
  {
   "cell_type": "markdown",
   "id": "176e2ff9-d524-41d1-a880-8c9d7e17a7a2",
   "metadata": {},
   "source": [
    "## Data dictionary \n",
    "\n",
    "|Name|Type|Description|\n",
    "|---|---|---|"
   ]
  },
  {
   "cell_type": "markdown",
   "id": "174baa53-2e5b-44a2-aa2c-ae9f7283a133",
   "metadata": {},
   "source": [
    "## Exploratory data analysis (EDA)"
   ]
  },
  {
   "cell_type": "markdown",
   "id": "4960b954-fbd8-42f6-bad7-08d8ca9d443a",
   "metadata": {},
   "source": [
    "Weather pattern over time \n",
    "Peaks of dengue \n",
    "Correlation between dengue and weather and look for peaks \n",
    "Correlation between dengue and key search words \n",
    "Clusters of dengue and weather pattern around different weather stations "
   ]
  },
  {
   "cell_type": "markdown",
   "id": "0def2c13-d6ee-4cd7-be45-3841befd3f60",
   "metadata": {},
   "source": [
    "## Modeling\n",
    "\n",
    "### Preprocess data\n",
    "\n",
    "- scaling\n",
    "- ?OHE "
   ]
  },
  {
   "cell_type": "code",
   "execution_count": null,
   "id": "8dab7aa1-c487-48a4-8a90-2dcda98515b7",
   "metadata": {},
   "outputs": [],
   "source": [
    "# define train and test set\n",
    "X_train, X_test, y_train, y_test = train_test_split(X, y, random_state=88)"
   ]
  },
  {
   "cell_type": "code",
   "execution_count": null,
   "id": "65b4bb68-e771-4418-9b7c-39bd79e9403b",
   "metadata": {},
   "outputs": [],
   "source": [
    "# scale dataset\n",
    "ss = StandardScaler()\n",
    "X_train_sc = ss.fit_transform(X_train)\n",
    "X_test_sc = ss.transform(X_test)"
   ]
  },
  {
   "cell_type": "markdown",
   "id": "d3813813-24cf-442c-a3b8-2f5c4f381745",
   "metadata": {},
   "source": [
    "### Model 1\n",
    "\n",
    "Instantiate\n",
    "Score\n",
    "Gridsearch and hyperparameter tuning\n",
    "Get coefficients \n",
    "Top coefficients "
   ]
  },
  {
   "cell_type": "code",
   "execution_count": null,
   "id": "da51a8ba-9946-49e8-acfa-b768896dd17c",
   "metadata": {},
   "outputs": [],
   "source": [
    "model = __."
   ]
  },
  {
   "cell_type": "code",
   "execution_count": null,
   "id": "5536b998-8fdb-476d-9a5b-cf86f3532289",
   "metadata": {},
   "outputs": [],
   "source": [
    "__.fit(X_train_sc)"
   ]
  },
  {
   "cell_type": "code",
   "execution_count": null,
   "id": "9133262e-1817-4f86-8595-d2e432b8c4af",
   "metadata": {},
   "outputs": [],
   "source": [
    "__.score(X_train_sc)\n",
    "__.score(X_test_sc)"
   ]
  },
  {
   "cell_type": "markdown",
   "id": "fe6a6a1f-d861-4c9f-9010-3d5be6575f36",
   "metadata": {},
   "source": [
    "Evaluation:"
   ]
  },
  {
   "cell_type": "markdown",
   "id": "2760e426-91a5-42d0-bae4-dc6fed786241",
   "metadata": {},
   "source": [
    "### Model 2\n",
    "\n",
    "Instantiate\n",
    "Score\n",
    "Gridsearch and hyperparameter tuning\n",
    "Get coefficients \n",
    "Top coefficients "
   ]
  },
  {
   "cell_type": "markdown",
   "id": "69c1bbb6-4d86-4b74-a3b0-9796c8c111da",
   "metadata": {},
   "source": [
    "Evaluation:"
   ]
  },
  {
   "cell_type": "markdown",
   "id": "0fd74234-5244-4c3b-9643-a2637eb36658",
   "metadata": {},
   "source": [
    "### Model 3\n",
    "\n",
    "Instantiate\n",
    "Score\n",
    "Gridsearch and hyperparameter tuning\n",
    "Get coefficients \n",
    "Top coefficients "
   ]
  },
  {
   "cell_type": "markdown",
   "id": "ea3e33b6-b101-468d-8860-57e9ffe2be66",
   "metadata": {},
   "source": [
    "Evaluation:"
   ]
  },
  {
   "cell_type": "markdown",
   "id": "ca3a9adb-2f81-463a-abe3-151e5fbbd310",
   "metadata": {},
   "source": [
    "### Overall evaluation"
   ]
  },
  {
   "cell_type": "markdown",
   "id": "3db9d758-3edd-4d79-901d-71bdcba5c88f",
   "metadata": {},
   "source": [
    "## Cost benefit analysis \n",
    "\n",
    "If able to predict data on dengue cases, attempt increase efforts of dengue control when peaks are coming \n",
    "- looking at cost savings "
   ]
  },
  {
   "cell_type": "markdown",
   "id": "f9be682d-d824-4930-8301-c7cc88515fb9",
   "metadata": {},
   "source": [
    "## Conclusion and recommendations"
   ]
  },
  {
   "cell_type": "code",
   "execution_count": null,
   "id": "bff2f655-9e94-40fd-80fa-685ac1d7b1db",
   "metadata": {},
   "outputs": [],
   "source": []
  }
 ],
 "metadata": {
  "kernelspec": {
   "display_name": "Python 3 (ipykernel)",
   "language": "python",
   "name": "python3"
  },
  "language_info": {
   "codemirror_mode": {
    "name": "ipython",
    "version": 3
   },
   "file_extension": ".py",
   "mimetype": "text/x-python",
   "name": "python",
   "nbconvert_exporter": "python",
   "pygments_lexer": "ipython3",
   "version": "3.8.17"
  }
 },
 "nbformat": 4,
 "nbformat_minor": 5
}
