{
 "cells": [
  {
   "attachments": {},
   "cell_type": "markdown",
   "id": "923a37bf-e38f-4d5e-ada7-216176bf90e0",
   "metadata": {},
   "source": [
    "<div>\n",
    "<center><img src=\"../resources/cost_benefit.webp\" width=\"300\"  style=\"border: 1px solid gray;\"><center>\n",
    "</div>\n",
    "    \n",
    "# Cost benefit analysis of project Wolbachia"
   ]
  },
  {
   "cell_type": "markdown",
   "id": "5d591295-622f-4228-a513-d9f196863661",
   "metadata": {},
   "source": [
    "<p style=\"text-align: justify;\">This section will address the cost-benefit analysis (CBA) of dengue prevention programs in Singapore. The purpose of is to compare the total costs of involved in a project with its anticipated benefits. With respect to this, we aim to perform a cost benefit analysis of Project Wolbachia in Singapore and advertisement cost of dengue prevention in Singapore versus its benefit of reducing incidence of dengue fever in Singapore. Data from reliable journals and previous newspaper will be referenced.\n",
    "</p>"
   ]
  },
  {
   "cell_type": "markdown",
   "id": "9ff847f2-5bd0-417d-9737-7d50cbef85bd",
   "metadata": {},
   "source": [
    "## Economic cost of dengue fever on Singapore's economy\n",
    "\n",
    "<p style=\"text-align: justify;\">\n",
    "    Soh et. al. estimated the economic cost of dengue on Singapore's economy from 2010 to 2020 to be between SGD 1.382 billion to SGD 3.086 billion. This amounts to approximately SGD 223.4million per month.     \n",
    "    <a href=\"https://journals.plos.org/globalpublichealth/article?id=10.1371/journal.pgph.0000024#references\">(Reference).</a>\n",
    "\n",
    "\n",
    "The economic cost was divided into direct medical and indirect costs. \n",
    "\n",
    "<p style=\"text-align: justify;\">Direct medical costs refer to expenses associated with medical treatment for the individual. However, in the broader context for cost to the nation's economy, direct medical cost incurred by a dengue fever patient refers to subsidies provided by the government to offset the total medical cost that would be chargebale to the patient. Examples of such costs, include Medisave claims, Community Health Assist Scheme (CHAS) subsidy for consultation, subsidy on hospitalisation, treatment, investigations and subsequent follow-up visits etc... </p>\n",
    "\n",
    "<p style=\"text-align: justify;\">Indirect medical costs the financial effect of illness or medical conditions that goes beyond direct medical costs. Examples of indirect medical costs include absenteeism, productivity loss and caregiver time etc.. These will impact the overall economic productivity. </p>\n",
    "\n",
    "The table below details the economic cost as noted in the paper by Soh et. al.\n",
    "\n"
   ]
  },
  {
   "cell_type": "markdown",
   "id": "90893803-3666-4e09-8df0-a69e22150d2b",
   "metadata": {},
   "source": [
    "<div>\n",
    "<center><img src=\"../resources/direct_medical_cost.PNG\" width=\"500\" alt=\"Direct and Indirect Medical Costs of Dengue Fever\" style=\"border: 1px solid gray;\"><center>\n",
    "</div>"
   ]
  },
  {
   "cell_type": "markdown",
   "id": "56ee09f8-1fe8-43aa-95bf-eff2079b3cbb",
   "metadata": {},
   "source": [
    "## Dengue prevention programs \n",
    "\n",
    "Over the past few decades, dengue prevention programs has evolved to incorporate new technologies to prevent dengue infection. The widely known dengue prevention project currently in  large scale deployment is the \"Project Wolbachia\" program. This is also known as the incompatible insect technique (IIT) whereby male _Aedes_ mosquitoes infected with the Wolbachia bacteria is released to breed with the wild-type female _Aedes aegypti_ mosquito to yield non-viable eggs, thereby reducing the number of _Aedes_ mosquitoes in the community. The project has been shown to lower the population _Aedes_ mosquitoes by up to 98% as well as reducing the number of dengue fever cases by up to 88% [(Reference)](https://www.medrxiv.org/content/10.1101/2021.06.16.21257922v1). Currently the project is being conducted in 13 estates around Singapore which coverage of nearly 300,000 households by the Housing Develoment Board (HDB) flats[(Reference)](https://www.nea.gov.sg/corporate-functions/resources/research/wolbachia-aedes-mosquito-suppression-strategy/wolbachia-aedes-release-schedule). It was estimated by Soh et. al that to reach a steady state of covering the entire Singapore, project Wolbachia would cost the economy around SGD 40,000,000 per year which would be approximately SGD3.33 million per month. "
   ]
  },
  {
   "cell_type": "markdown",
   "id": "508bf91a-c086-4023-a770-ef91a1d0cd31",
   "metadata": {},
   "source": [
    "<div>\n",
    "<center><img src=\"../resources/project-wolbachia-singapore_logo.png\" width=\"500\"  style=\"border: 1px solid gray;\"><center>\n",
    "</div>"
   ]
  },
  {
   "cell_type": "markdown",
   "id": "011a7bf9-6e75-4b70-a0e1-e1923695e70f",
   "metadata": {},
   "source": [
    "<p style=\"text-align: justify;\">Based on the modeling metrics for predicting the dengue cases, we can propose a more targeted approach towards dengue prevention. Our best model currently is able to predict 3 months in advance with an estimated mean error of 27.85%. \n",
    "\n",
    "There are a few assumption for the purpose of benefit-cost analysis: \n",
    "- Reduction in economic in direct proportion to reduction in dengue fever cases.\n",
    "- Efficacy of project Wolbachia to reduce dengue fever cases by 80%. \n",
    "  - Project runs for the entire year. \n",
    "- Reduction from Wolbachia project will have a lag period of 1 month based on the life cycle of the mosquitoes\n",
    "\n"
   ]
  },
  {
   "cell_type": "markdown",
   "id": "aa38836a-0f9f-41c4-9db5-968ab13b28aa",
   "metadata": {},
   "source": [
    "Baseline benefit cost ratio: \n",
    "Economic cost * efficacy of project Wolbachia  / steady state cost of project Wolbachia \n",
    "= 223.4mil * 0.80 / 40mil = __4.468__\n",
    "\n",
    "Economic impact reduction from project Wolbachia based on model prediction:\n",
    "= 223.4mil * 0.8 * (1- MAPE) = SGD 128.95mil \n",
    "\n",
    "We will use 2 scenarios, the maximum hypothetical benefit and minimum hypothetical benefit.\n",
    "\n",
    "_For minimum hypothetical benefit-cost ratio, we are assuming there is one peak in our 3month ahead prediction, therefore we will be deploying project Wolbachia 4 months in a year._\n",
    "\n",
    "Cost of 4 months of deploying Wolbachia mosquitoes = SGD 13.32mil \n",
    "- hypothetical minimum benefit cost ratio = 128.95 mil/13.32 mil = __9.681__ (__2.2__ times improvement from baseline)\n",
    "\n",
    "\n",
    "_For maximum hypothetical benefit-cost ratio, we are assuming there is one peak for the entire year based on our prediction, therefore we will be deploying project Wolbachia 1 month in a year._\n",
    "\n",
    "Cost of 1 month of deploying Wolbachia mosquitoes = SGD 3.33mil \n",
    "- hypothetical maximum benefit-cost ratio = 128.95 mil / 3.33 = __38.724__ (__8.7__ times improvement from baseline!)\n",
    "\n",
    "\n",
    "\n",
    "\n"
   ]
  },
  {
   "cell_type": "markdown",
   "id": "748f7611-35d1-4e7c-8695-4d01acd41ddf",
   "metadata": {},
   "source": [
    "Overall, with our current prediction model and accounting for the error rate, the benefit-cost analysis of targeted deployment of project Wolbachia is much better compared to the baseline benefit-cost analysis. "
   ]
  },
  {
   "cell_type": "code",
   "execution_count": null,
   "id": "dce076a5-c02d-4f0f-839c-07f8d4d6eb1f",
   "metadata": {},
   "outputs": [],
   "source": []
  }
 ],
 "metadata": {
  "kernelspec": {
   "display_name": "Python 3 (ipykernel)",
   "language": "python",
   "name": "python3"
  },
  "language_info": {
   "codemirror_mode": {
    "name": "ipython",
    "version": 3
   },
   "file_extension": ".py",
   "mimetype": "text/x-python",
   "name": "python",
   "nbconvert_exporter": "python",
   "pygments_lexer": "ipython3",
   "version": "3.8.17"
  }
 },
 "nbformat": 4,
 "nbformat_minor": 5
}
